{
  "nbformat": 4,
  "nbformat_minor": 0,
  "metadata": {
    "colab": {
      "name": "Clustering",
      "provenance": [],
      "collapsed_sections": [],
      "authorship_tag": "ABX9TyN6yWawVL9xcLwCj2JTImkH",
      "include_colab_link": true
    },
    "kernelspec": {
      "name": "python3",
      "display_name": "Python 3"
    },
    "language_info": {
      "name": "python"
    }
  },
  "cells": [
    {
      "cell_type": "markdown",
      "metadata": {
        "id": "view-in-github",
        "colab_type": "text"
      },
      "source": [
        "<a href=\"https://colab.research.google.com/github/socialx-indonesia/da-bcpb/blob/main/python/004_clustering.ipynb\" target=\"_parent\"><img src=\"https://colab.research.google.com/assets/colab-badge.svg\" alt=\"Open In Colab\"/></a>"
      ]
    },
    {
      "cell_type": "markdown",
      "source": [
        "*SocialX Indonesia - Muhammad Apriandito*\n",
        "\n",
        "\n",
        "---\n",
        "\n",
        "\n",
        "\n",
        "\n"
      ],
      "metadata": {
        "id": "hcnZkHT-Q4v6"
      }
    },
    {
      "cell_type": "markdown",
      "source": [
        "# **Clustering: Customer Segementation**"
      ],
      "metadata": {
        "id": "0R_qkwxwMSXO"
      }
    },
    {
      "cell_type": "markdown",
      "source": [
        "#### **Setup**\n",
        "To create the model. we need to install and load python pakcage to be used. Because we use Google Collaboratory where all the packages have been installed, we just need to load the package."
      ],
      "metadata": {
        "id": "_ckglxomNuAP"
      }
    },
    {
      "cell_type": "code",
      "source": [
        "# Load packages\n",
        "import pandas as pd\n",
        "import seaborn as sns\n",
        "import matplotlib.pyplot as plt\n",
        "import warnings\n",
        "import random\n",
        "\n",
        "# Importing Standardscalar Module \n",
        "from sklearn.preprocessing import StandardScaler \n",
        "\n",
        "# Set Parameter\n",
        "plt.rcParams['figure.figsize'] = (16, 9)\n",
        "random.seed(10)\n",
        "warnings.filterwarnings('ignore')"
      ],
      "metadata": {
        "id": "lpP2R3ogWgNv"
      },
      "execution_count": null,
      "outputs": []
    },
    {
      "cell_type": "code",
      "source": [
        "# Import Data to Google Colab\n",
        "df = pd.read_csv('https://raw.githubusercontent.com/socialx-indonesia/bda-tpcc/main/data/customer_churn.csv', sep = ';')"
      ],
      "metadata": {
        "id": "pXwRTYw6Wdx4"
      },
      "execution_count": null,
      "outputs": []
    },
    {
      "cell_type": "markdown",
      "source": [
        "#### **Data Exploration**"
      ],
      "metadata": {
        "id": "M1BGqUDDXAN9"
      }
    },
    {
      "cell_type": "code",
      "metadata": {
        "id": "LZIImjX5r_10"
      },
      "source": [
        "# Print Data\n",
        "df.head(5)"
      ],
      "execution_count": null,
      "outputs": []
    },
    {
      "cell_type": "code",
      "source": [
        "df.info()"
      ],
      "metadata": {
        "id": "CbypDSAVXHmk"
      },
      "execution_count": null,
      "outputs": []
    },
    {
      "cell_type": "code",
      "source": [
        "# Select tenure and monthly chareges variable for clustering\n",
        "df_cluster = df[['tenure', 'MonthlyCharges']]\n",
        "df_cluster "
      ],
      "metadata": {
        "id": "2nUlih1zXIw4"
      },
      "execution_count": null,
      "outputs": []
    },
    {
      "cell_type": "code",
      "source": [
        "# Visualizing the Data\n",
        "sns.scatterplot(x='tenure', y='MonthlyCharges', data = df_cluster)"
      ],
      "metadata": {
        "id": "x6KhrxtPXjUc"
      },
      "execution_count": null,
      "outputs": []
    },
    {
      "cell_type": "markdown",
      "source": [
        "#### **Pre-Processing**"
      ],
      "metadata": {
        "id": "ij68zU50akwM"
      }
    },
    {
      "cell_type": "code",
      "source": [
        "# Set Name for StandardScaler as scaler\n",
        "scaler = StandardScaler() \n",
        "\n",
        "# Fit Standardization\n",
        "column_names = df_cluster.columns.tolist()\n",
        "df_cluster[column_names] = scaler.fit_transform(df_cluster[column_names])\n",
        "df_cluster.sort_index(inplace=True)\n",
        "df_cluster"
      ],
      "metadata": {
        "id": "Z8iVhGSEXRlK"
      },
      "execution_count": null,
      "outputs": []
    },
    {
      "cell_type": "markdown",
      "source": [
        "#### **Search for the Optimum Number of Clusters (k)**"
      ],
      "metadata": {
        "id": "bbHr93VAasHV"
      }
    },
    {
      "cell_type": "code",
      "source": [
        "# Transform Data Frame to Numpy Array\n",
        "np_cluster = df_cluster.to_numpy()\n",
        "np_cluster\n",
        "\n",
        "# Elbow Method\n",
        "from sklearn.cluster import KMeans\n",
        "wcss = []\n",
        "for i in range(1,11):\n",
        "    kmeans = KMeans(n_clusters=i, init='k-means++', max_iter=300, n_init=10, random_state=0)\n",
        "    kmeans.fit(np_cluster)\n",
        "    wcss.append(kmeans.inertia_)\n",
        "  \n",
        "# Visualize \n",
        "plt.plot(range(1,11),wcss)\n",
        "plt.title('Elbow Method')\n",
        "plt.xlabel('Number of clusters')\n",
        "plt.ylabel('wcss')\n",
        "plt.show()"
      ],
      "metadata": {
        "id": "8OXdlSKlX1Ay"
      },
      "execution_count": null,
      "outputs": []
    },
    {
      "cell_type": "code",
      "source": [
        "# Silhoutte Method\n",
        "from sklearn.metrics import silhouette_score\n",
        "from sklearn.cluster import KMeans\n",
        "\n",
        "for n_cluster in range(2, 11):\n",
        "    kmeans = KMeans(n_clusters=n_cluster).fit(np_cluster)\n",
        "    label = kmeans.labels_\n",
        "    sil_coeff = silhouette_score(np_cluster, label, metric='euclidean')\n",
        "    print('For n_clusters={}, The Silhouette Coefficient is {}'.format(n_cluster, sil_coeff))"
      ],
      "metadata": {
        "id": "QWz9gsT5YFbe"
      },
      "execution_count": null,
      "outputs": []
    },
    {
      "cell_type": "markdown",
      "source": [
        "#### **K-Means Clustering**"
      ],
      "metadata": {
        "id": "asB-6JJAaycR"
      }
    },
    {
      "cell_type": "code",
      "source": [
        "# Apply the K-Means Model to the Data\n",
        "kmeans = KMeans(n_clusters=3, init='k-means++')\n",
        "cluster = kmeans.fit_predict((np_cluster))"
      ],
      "metadata": {
        "id": "B7NpnfWOYdd8"
      },
      "execution_count": null,
      "outputs": []
    },
    {
      "cell_type": "code",
      "source": [
        "# Add Cluster Information to the Raw Data\n",
        "df_cluster['cluster'] = cluster\n",
        "df_cluster"
      ],
      "metadata": {
        "id": "xVBenB_lY8ph"
      },
      "execution_count": null,
      "outputs": []
    },
    {
      "cell_type": "code",
      "source": [
        "# Visualize\n",
        "sns.scatterplot(x='tenure',\n",
        "                y='MonthlyCharges',\n",
        "                hue=\"cluster\", \n",
        "                data=df_cluster)"
      ],
      "metadata": {
        "id": "moAQ-VNNZF2J"
      },
      "execution_count": null,
      "outputs": []
    }
  ]
}